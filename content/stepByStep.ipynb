{
 "cells": [
  {
   "cell_type": "markdown",
   "metadata": {},
   "source": [
    "Loading Ollama model"
   ]
  },
  {
   "cell_type": "code",
   "execution_count": 1,
   "metadata": {},
   "outputs": [],
   "source": [
    "from langchain_ollama import ChatOllama\n",
    "llm = ChatOllama(model=\"llama3.2:latest\")"
   ]
  },
  {
   "cell_type": "markdown",
   "metadata": {},
   "source": [
    "Establishing connection to the Database"
   ]
  },
  {
   "cell_type": "code",
   "execution_count": 2,
   "metadata": {},
   "outputs": [],
   "source": [
    "import yaml\n",
    "from sqlalchemy import create_engine\n",
    "from langchain_community.utilities import SQLDatabase\n",
    "\n",
    "with open('../config/config.yml', 'r') as file:\n",
    "    config = yaml.safe_load(file)\n",
    "\n",
    "mysql_config = config.get('mysql')\n",
    "\n",
    "username = mysql_config.get('username')\n",
    "password = mysql_config.get('password')\n",
    "host = mysql_config.get('host')\n",
    "port = mysql_config.get('port')\n",
    "database = mysql_config.get('database')\n",
    "\n",
    "connection_string = f\"mysql+mysqlconnector://{username}:{password}@{host}:{port}/{database}\"\n",
    "engine = create_engine(connection_string)\n",
    "\n",
    "db = SQLDatabase(engine)"
   ]
  },
  {
   "cell_type": "markdown",
   "metadata": {},
   "source": [
    "Checking the connection with a database"
   ]
  },
  {
   "cell_type": "code",
   "execution_count": 3,
   "metadata": {},
   "outputs": [
    {
     "data": {
      "text/plain": [
       "\"[(1, 'John', 'Doe', 'john.doe@example.com', Decimal('55000.00')), (2, 'Jane', 'Smith', 'jane.smith@example.com', Decimal('62000.00')), (3, 'Mike', 'Johnson', 'mike.johnson@example.com', Decimal('48000.00')), (4, 'Emily', 'Davis', 'emily.davis@example.com', Decimal('51000.00'))]\""
      ]
     },
     "execution_count": 3,
     "metadata": {},
     "output_type": "execute_result"
    }
   ],
   "source": [
    "db.run(\"SELECT * FROM employee\")"
   ]
  },
  {
   "cell_type": "code",
   "execution_count": 15,
   "metadata": {},
   "outputs": [],
   "source": [
    "from langchain.chains import create_sql_query_chain\n",
    "\n",
    "sql_chain = create_sql_query_chain(llm, db)\n",
    "question = \"how many employees are there? You MUST RETURN ONLY MYSQL QUERIES.\"\n",
    "response = sql_chain.invoke({\"question\": question})"
   ]
  },
  {
   "cell_type": "markdown",
   "metadata": {},
   "source": [
    "Telling model how to extract the query from the previous response (need to parse the string)"
   ]
  },
  {
   "cell_type": "code",
   "execution_count": 16,
   "metadata": {},
   "outputs": [],
   "source": [
    "from langchain_core.prompts import (SystemMessagePromptTemplate, \n",
    "                                    HumanMessagePromptTemplate,\n",
    "                                    ChatPromptTemplate)\n",
    "from langchain_core.output_parsers import StrOutputParser\n",
    "\n",
    "system = SystemMessagePromptTemplate.from_template(\"\"\"You are helpful AI assistant who answer user question based on the provided context.\"\"\")\n",
    "\n",
    "prompt = \"\"\"Answer user question based on the provided context ONLY! If you do not know the answer, just say \"I don't know\".\n",
    "            ### Context:\n",
    "            {context}\n",
    "\n",
    "            ### Question:\n",
    "            {question}\n",
    "\n",
    "            ### Answer:\"\"\"\n",
    "\n",
    "prompt = HumanMessagePromptTemplate.from_template(prompt)\n",
    "\n",
    "messages = [system, prompt]\n",
    "template = ChatPromptTemplate(messages)\n",
    "\n",
    "qna_chain = template | llm | StrOutputParser()\n",
    "\n",
    "def ask_llm(context, question):\n",
    "    return qna_chain.invoke({'context': context, 'question': question})"
   ]
  },
  {
   "cell_type": "code",
   "execution_count": 17,
   "metadata": {},
   "outputs": [],
   "source": [
    "from langchain_core.runnables import chain\n",
    "\n",
    "@chain\n",
    "def get_correct_sql_query(input):\n",
    "    context = input['context']\n",
    "    question = input['question']\n",
    "\n",
    "    intruction = \"\"\"\n",
    "        Use above context to fetch the correct SQL query for following question\n",
    "        {}\n",
    "\n",
    "        Do not enclose query in ```sql and do not write preamble and explanation.\n",
    "        You MUST return only single SQL query.\n",
    "    \"\"\".format(question)\n",
    "\n",
    "    response = ask_llm(context=context, question=intruction)\n",
    "\n",
    "    return response"
   ]
  },
  {
   "cell_type": "code",
   "execution_count": 18,
   "metadata": {},
   "outputs": [
    {
     "data": {
      "text/plain": [
       "'[(4,)]'"
      ]
     },
     "execution_count": 18,
     "metadata": {},
     "output_type": "execute_result"
    }
   ],
   "source": [
    "response = get_correct_sql_query.invoke({'context': response, 'question': question})\n",
    "db.run(response)"
   ]
  },
  {
   "cell_type": "markdown",
   "metadata": {},
   "source": [
    "Building the chain that is capable of extracting the right query"
   ]
  },
  {
   "cell_type": "code",
   "execution_count": 19,
   "metadata": {},
   "outputs": [],
   "source": [
    "from langchain_community.tools import QuerySQLDatabaseTool\n",
    "from langchain_core.runnables import RunnablePassthrough \n",
    "\n",
    "execute_query = QuerySQLDatabaseTool(db=db)\n",
    "sql_query = create_sql_query_chain(llm, db)\n",
    "\n",
    "final_chain = (\n",
    "    {'context': sql_query, 'question': RunnablePassthrough()}\n",
    "    | get_correct_sql_query\n",
    "    | execute_query\n",
    ")"
   ]
  },
  {
   "cell_type": "code",
   "execution_count": 20,
   "metadata": {},
   "outputs": [
    {
     "name": "stdout",
     "output_type": "stream",
     "text": [
      "[(4,)]\n"
     ]
    }
   ],
   "source": [
    "question = \"how many employees are there? You MUST RETURN ONLY MYSQL QUERIES.\"\n",
    "\n",
    "response = final_chain.invoke({'question': question})\n",
    "print(response)"
   ]
  },
  {
   "cell_type": "markdown",
   "metadata": {},
   "source": [
    "Building an agent"
   ]
  }
 ],
 "metadata": {
  "kernelspec": {
   "display_name": ".venv",
   "language": "python",
   "name": "python3"
  },
  "language_info": {
   "codemirror_mode": {
    "name": "ipython",
    "version": 3
   },
   "file_extension": ".py",
   "mimetype": "text/x-python",
   "name": "python",
   "nbconvert_exporter": "python",
   "pygments_lexer": "ipython3",
   "version": "3.11.3"
  }
 },
 "nbformat": 4,
 "nbformat_minor": 2
}
