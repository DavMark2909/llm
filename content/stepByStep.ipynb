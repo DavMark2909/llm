{
 "cells": [
  {
   "cell_type": "markdown",
   "metadata": {},
   "source": [
    "Loading Ollama model"
   ]
  },
  {
   "cell_type": "code",
   "execution_count": 1,
   "metadata": {},
   "outputs": [],
   "source": [
    "from langchain_ollama import ChatOllama\n",
    "llm = ChatOllama(model=\"llama3.2:latest\")"
   ]
  },
  {
   "cell_type": "markdown",
   "metadata": {},
   "source": [
    "Establishing connection to the Database"
   ]
  },
  {
   "cell_type": "code",
   "execution_count": 2,
   "metadata": {},
   "outputs": [],
   "source": [
    "import yaml\n",
    "from sqlalchemy import create_engine\n",
    "from langchain_community.utilities import SQLDatabase\n",
    "\n",
    "with open('../config/config.yml', 'r') as file:\n",
    "    config = yaml.safe_load(file)\n",
    "\n",
    "mysql_config = config.get('mysql')\n",
    "\n",
    "username = mysql_config.get('username')\n",
    "password = mysql_config.get('password')\n",
    "host = mysql_config.get('host')\n",
    "port = mysql_config.get('port')\n",
    "database = mysql_config.get('database')\n",
    "\n",
    "connection_string = f\"mysql+mysqlconnector://{username}:{password}@{host}:{port}/{database}\"\n",
    "engine = create_engine(connection_string)\n",
    "\n",
    "db = SQLDatabase(engine)"
   ]
  },
  {
   "cell_type": "markdown",
   "metadata": {},
   "source": [
    "Checking the connection with a database"
   ]
  },
  {
   "cell_type": "code",
   "execution_count": 3,
   "metadata": {},
   "outputs": [
    {
     "data": {
      "text/plain": [
       "\"[(1, 'John', 'Doe', 'john.doe@example.com', Decimal('55000.00')), (2, 'Jane', 'Smith', 'jane.smith@example.com', Decimal('62000.00')), (3, 'Mike', 'Johnson', 'mike.johnson@example.com', Decimal('48000.00')), (4, 'Emily', 'Davis', 'emily.davis@example.com', Decimal('51000.00'))]\""
      ]
     },
     "execution_count": 3,
     "metadata": {},
     "output_type": "execute_result"
    }
   ],
   "source": [
    "db.run(\"SELECT * FROM employee\")"
   ]
  },
  {
   "cell_type": "code",
   "execution_count": 15,
   "metadata": {},
   "outputs": [],
   "source": [
    "from langchain.chains import create_sql_query_chain\n",
    "\n",
    "sql_chain = create_sql_query_chain(llm, db)\n",
    "question = \"how many employees are there? You MUST RETURN ONLY MYSQL QUERIES.\"\n",
    "response = sql_chain.invoke({\"question\": question})"
   ]
  },
  {
   "cell_type": "markdown",
   "metadata": {},
   "source": [
    "Telling model how to extract the query from the previous response (need to parse the string)"
   ]
  },
  {
   "cell_type": "code",
   "execution_count": 16,
   "metadata": {},
   "outputs": [],
   "source": [
    "from langchain_core.prompts import (SystemMessagePromptTemplate, \n",
    "                                    HumanMessagePromptTemplate,\n",
    "                                    ChatPromptTemplate)\n",
    "from langchain_core.output_parsers import StrOutputParser\n",
    "\n",
    "system = SystemMessagePromptTemplate.from_template(\"\"\"You are helpful AI assistant who answer user question based on the provided context.\"\"\")\n",
    "\n",
    "prompt = \"\"\"Answer user question based on the provided context ONLY! If you do not know the answer, just say \"I don't know\".\n",
    "            ### Context:\n",
    "            {context}\n",
    "\n",
    "            ### Question:\n",
    "            {question}\n",
    "\n",
    "            ### Answer:\"\"\"\n",
    "\n",
    "prompt = HumanMessagePromptTemplate.from_template(prompt)\n",
    "\n",
    "messages = [system, prompt]\n",
    "template = ChatPromptTemplate(messages)\n",
    "\n",
    "qna_chain = template | llm | StrOutputParser()\n",
    "\n",
    "def ask_llm(context, question):\n",
    "    return qna_chain.invoke({'context': context, 'question': question})"
   ]
  },
  {
   "cell_type": "code",
   "execution_count": 17,
   "metadata": {},
   "outputs": [],
   "source": [
    "from langchain_core.runnables import chain\n",
    "\n",
    "@chain\n",
    "def get_correct_sql_query(input):\n",
    "    context = input['context']\n",
    "    question = input['question']\n",
    "\n",
    "    intruction = \"\"\"\n",
    "        Use above context to fetch the correct SQL query for following question\n",
    "        {}\n",
    "\n",
    "        Do not enclose query in ```sql and do not write preamble and explanation.\n",
    "        You MUST return only single SQL query.\n",
    "    \"\"\".format(question)\n",
    "\n",
    "    response = ask_llm(context=context, question=intruction)\n",
    "\n",
    "    return response"
   ]
  },
  {
   "cell_type": "code",
   "execution_count": 18,
   "metadata": {},
   "outputs": [
    {
     "data": {
      "text/plain": [
       "'[(4,)]'"
      ]
     },
     "execution_count": 18,
     "metadata": {},
     "output_type": "execute_result"
    }
   ],
   "source": [
    "response = get_correct_sql_query.invoke({'context': response, 'question': question})\n",
    "db.run(response)"
   ]
  },
  {
   "cell_type": "markdown",
   "metadata": {},
   "source": [
    "Building the chain that is capable of extracting the right query"
   ]
  },
  {
   "cell_type": "code",
   "execution_count": 19,
   "metadata": {},
   "outputs": [],
   "source": [
    "from langchain_community.tools import QuerySQLDatabaseTool\n",
    "from langchain_core.runnables import RunnablePassthrough \n",
    "\n",
    "execute_query = QuerySQLDatabaseTool(db=db)\n",
    "sql_query = create_sql_query_chain(llm, db)\n",
    "\n",
    "final_chain = (\n",
    "    {'context': sql_query, 'question': RunnablePassthrough()}\n",
    "    | get_correct_sql_query\n",
    "    | execute_query\n",
    ")"
   ]
  },
  {
   "cell_type": "code",
   "execution_count": 24,
   "metadata": {},
   "outputs": [
    {
     "name": "stdout",
     "output_type": "stream",
     "text": [
      "[(4,)]\n"
     ]
    }
   ],
   "source": [
    "question = \"how many employees are there? You MUST RETURN ONLY MYSQL QUERIES.\"\n",
    "\n",
    "response = final_chain.invoke({'question': question})\n",
    "print(response)"
   ]
  },
  {
   "cell_type": "markdown",
   "metadata": {},
   "source": [
    "Building an agent"
   ]
  },
  {
   "cell_type": "markdown",
   "metadata": {},
   "source": [
    "Loading the schemas of current databases"
   ]
  },
  {
   "cell_type": "code",
   "execution_count": 25,
   "metadata": {},
   "outputs": [],
   "source": [
    "from sqlalchemy import inspect\n",
    "\n",
    "def get_db_schema():\n",
    "    inspector = inspect(engine)\n",
    "\n",
    "    tables_info = {}\n",
    "    for table_name in inspector.get_table_names():\n",
    "        columns = inspector.get_columns(table_name)\n",
    "        tables_info[table_name] = [col[\"name\"] for col in columns]\n",
    "\n",
    "    return tables_info"
   ]
  },
  {
   "cell_type": "code",
   "execution_count": 26,
   "metadata": {},
   "outputs": [],
   "source": [
    "def generate_system_message():\n",
    "    schema = get_db_schema()\n",
    "    tables_info = \"\\n\".join(\n",
    "        f\"- {table}: {', '.join(columns)}\" for table, columns in schema.items()\n",
    "    )\n",
    "\n",
    "    return f\"\"\"\n",
    "    You are an expert in querying SQL databases. The database contains the following tables and columns:\n",
    "    {tables_info}\n",
    "\n",
    "    Always use the exact table names provided above. Do not assume or pluralize table names.\n",
    "    \"\"\""
   ]
  },
  {
   "cell_type": "code",
   "execution_count": null,
   "metadata": {},
   "outputs": [],
   "source": [
    "from langgraph.prebuilt import create_react_agent\n",
    "from langchain_community.agent_toolkits import SQLDatabaseToolkit\n",
    "\n",
    "toolkit = SQLDatabaseToolkit(db=db, llm=llm)\n",
    "tools = toolkit.get_tools()\n",
    "\n",
    "system_message = generate_system_message()\n",
    "\n",
    "agent_executor = create_react_agent(\n",
    "    llm,\n",
    "    tools,\n",
    "    state_modifier=system_message,\n",
    "    debug=False\n",
    ")"
   ]
  },
  {
   "cell_type": "code",
   "execution_count": 28,
   "metadata": {},
   "outputs": [
    {
     "data": {
      "text/plain": [
       "{'messages': [HumanMessage(content='How many employees are there?', additional_kwargs={}, response_metadata={}, id='82dbe260-b8ac-4d42-9382-a0ab8a7eec5a'),\n",
       "  AIMessage(content='', additional_kwargs={}, response_metadata={'model': 'llama3.2:latest', 'created_at': '2025-02-16T18:05:40.536513Z', 'done': True, 'done_reason': 'stop', 'total_duration': 18233652542, 'load_duration': 1357232125, 'prompt_eval_count': 629, 'prompt_eval_duration': 11234000000, 'eval_count': 60, 'eval_duration': 5109000000, 'message': Message(role='assistant', content='', images=None, tool_calls=None)}, id='run-fd64fc35-43a6-45df-b76c-12a85ccb4b74-0', tool_calls=[{'name': 'sql_db_list_tables', 'args': {}, 'id': '1bcc4d75-ec24-48d9-93a8-6afedd60f0da', 'type': 'tool_call'}, {'name': 'sql_db_query_checker', 'args': {'query': 'SELECT COUNT(*) FROM employee'}, 'id': '6392db48-268e-4cc1-bbd5-85ddcb6b3484', 'type': 'tool_call'}, {'name': 'sql_db_query', 'args': {'query': 'SELECT COUNT(*) FROM employee'}, 'id': 'd5990a32-1149-4166-87b5-d16bd61c984e', 'type': 'tool_call'}], usage_metadata={'input_tokens': 629, 'output_tokens': 60, 'total_tokens': 689}),\n",
       "  ToolMessage(content='cancer, diabetes, employee', name='sql_db_list_tables', id='f4ec330e-edcb-42db-b7dd-5e0d31c68702', tool_call_id='1bcc4d75-ec24-48d9-93a8-6afedd60f0da'),\n",
       "  ToolMessage(content='SELECT COUNT(*) FROM employee', name='sql_db_query_checker', id='d237f25e-a9ed-4dfa-8ba6-16d3a40fbcc6', tool_call_id='6392db48-268e-4cc1-bbd5-85ddcb6b3484'),\n",
       "  ToolMessage(content='[(4,)]', name='sql_db_query', id='5151e6ec-d73d-41e5-81c4-7ce624898ccb', tool_call_id='d5990a32-1149-4166-87b5-d16bd61c984e'),\n",
       "  AIMessage(content='There are 4 employees in the database.', additional_kwargs={}, response_metadata={'model': 'llama3.2:latest', 'created_at': '2025-02-16T18:05:45.403507Z', 'done': True, 'done_reason': 'stop', 'total_duration': 2752354250, 'load_duration': 48213084, 'prompt_eval_count': 281, 'prompt_eval_duration': 2053000000, 'eval_count': 10, 'eval_duration': 630000000, 'message': Message(role='assistant', content='There are 4 employees in the database.', images=None, tool_calls=None)}, id='run-76c36ff4-d829-4055-9598-1a928cf95c5f-0', usage_metadata={'input_tokens': 281, 'output_tokens': 10, 'total_tokens': 291})]}"
      ]
     },
     "execution_count": 28,
     "metadata": {},
     "output_type": "execute_result"
    }
   ],
   "source": [
    "from langchain_core.messages import HumanMessage\n",
    "\n",
    "question = \"How many employees are there?\"\n",
    "\n",
    "agent_executor.invoke({\"messages\": [HumanMessage(content=question)]})"
   ]
  }
 ],
 "metadata": {
  "kernelspec": {
   "display_name": ".venv",
   "language": "python",
   "name": "python3"
  },
  "language_info": {
   "codemirror_mode": {
    "name": "ipython",
    "version": 3
   },
   "file_extension": ".py",
   "mimetype": "text/x-python",
   "name": "python",
   "nbconvert_exporter": "python",
   "pygments_lexer": "ipython3",
   "version": "3.11.3"
  }
 },
 "nbformat": 4,
 "nbformat_minor": 2
}
