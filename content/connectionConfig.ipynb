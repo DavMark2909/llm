{
 "cells": [
  {
   "cell_type": "markdown",
   "metadata": {},
   "source": [
    "Creating connection to the model and the DB"
   ]
  },
  {
   "cell_type": "code",
   "execution_count": 27,
   "metadata": {},
   "outputs": [],
   "source": [
    "from langchain_ollama import ChatOllama\n",
    "\n",
    "# Initialize the LLM with your locally running Ollama instance\n",
    "llm = ChatOllama(model=\"llama3.2:latest\")"
   ]
  },
  {
   "cell_type": "markdown",
   "metadata": {},
   "source": [
    "Reading the configuration file to extract the values for the DB connection"
   ]
  },
  {
   "cell_type": "code",
   "execution_count": 28,
   "metadata": {},
   "outputs": [],
   "source": [
    "import yaml\n",
    "\n",
    "with open('../config/config.yml', 'r') as file:\n",
    "    config = yaml.safe_load(file)\n",
    "\n",
    "mysql_config = config.get('mysql')\n",
    "\n",
    "username = mysql_config.get('username')\n",
    "password = mysql_config.get('password')\n",
    "host = mysql_config.get('host')\n",
    "port = mysql_config.get('port')\n",
    "database = mysql_config.get('database')"
   ]
  },
  {
   "cell_type": "markdown",
   "metadata": {},
   "source": [
    "Establishment of the MySQL connection"
   ]
  },
  {
   "cell_type": "code",
   "execution_count": 29,
   "metadata": {},
   "outputs": [],
   "source": [
    "from sqlalchemy import create_engine\n",
    "\n",
    "connection_string = f\"mysql+mysqlconnector://{username}:{password}@{host}:{port}/{database}\"\n",
    "engine = create_engine(connection_string)"
   ]
  },
  {
   "cell_type": "markdown",
   "metadata": {},
   "source": [
    "Creation of the DB connection to work with the Model"
   ]
  },
  {
   "cell_type": "code",
   "execution_count": 30,
   "metadata": {},
   "outputs": [],
   "source": [
    "from langchain_community.utilities import SQLDatabase\n",
    "\n",
    "db = SQLDatabase(engine)"
   ]
  },
  {
   "cell_type": "markdown",
   "metadata": {},
   "source": [
    "Checking the connection by running a simple query"
   ]
  },
  {
   "cell_type": "code",
   "execution_count": 31,
   "metadata": {},
   "outputs": [
    {
     "data": {
      "text/plain": [
       "\"[(1, 'John', 'Doe', 'john.doe@example.com', Decimal('55000.00')), (2, 'Jane', 'Smith', 'jane.smith@example.com', Decimal('62000.00')), (3, 'Mike', 'Johnson', 'mike.johnson@example.com', Decimal('48000.00')), (4, 'Emily', 'Davis', 'emily.davis@example.com', Decimal('51000.00'))]\""
      ]
     },
     "execution_count": 31,
     "metadata": {},
     "output_type": "execute_result"
    }
   ],
   "source": [
    "db.run(\"SELECT * FROM employee\")"
   ]
  },
  {
   "cell_type": "markdown",
   "metadata": {},
   "source": [
    "Addition of the chain to create the actual query to DB"
   ]
  },
  {
   "cell_type": "code",
   "execution_count": 32,
   "metadata": {},
   "outputs": [],
   "source": [
    "from langchain.chains import create_sql_query_chain\n",
    "\n",
    "sql_chain = create_sql_query_chain(llm, db)"
   ]
  },
  {
   "cell_type": "code",
   "execution_count": 33,
   "metadata": {},
   "outputs": [
    {
     "name": "stdout",
     "output_type": "stream",
     "text": [
      "Answer: There are 3 employees.\n",
      "\n",
      "SQLQuery: SELECT COUNT(*) FROM employee;\n"
     ]
    }
   ],
   "source": [
    "question = \"how many employees are there? You MUST RETURN ONLY MYSQL QUERIES. Dont forget to check the tables available\"\n",
    "response = sql_chain.invoke({'question': question})\n",
    "print(response)"
   ]
  },
  {
   "cell_type": "markdown",
   "metadata": {},
   "source": [
    "Upload of csv files to the DB"
   ]
  },
  {
   "cell_type": "code",
   "execution_count": null,
   "metadata": {},
   "outputs": [
    {
     "name": "stdout",
     "output_type": "stream",
     "text": [
      "['cancer.csv', 'diabetes.csv']\n"
     ]
    }
   ],
   "source": [
    "import os\n",
    "import pandas as pd\n",
    "\n",
    "file_dir_list = os.listdir(\"../data\")\n",
    "print(file_dir_list)"
   ]
  },
  {
   "cell_type": "code",
   "execution_count": 14,
   "metadata": {},
   "outputs": [
    {
     "name": "stdout",
     "output_type": "stream",
     "text": [
      "All csv files are saved into the sql database.\n"
     ]
    }
   ],
   "source": [
    "for file in file_dir_list:\n",
    "    full_file_path = os.path.join(\"/Users/mark/Documents/Research/LLM_MODEL/data\", file)\n",
    "    file_name, file_extension = os.path.splitext(file)\n",
    "    if file_extension == \".csv\":\n",
    "        df = pd.read_csv(full_file_path)\n",
    "    elif file_extension == \".xlsx\":\n",
    "        df = pd.read_excel(full_file_path)\n",
    "    else:\n",
    "        raise ValueError(\"The selected file type is not supported\")\n",
    "    df.to_sql(file_name, engine, index=False)\n",
    "print(\"All csv files are saved into the sql database.\")"
   ]
  },
  {
   "cell_type": "markdown",
   "metadata": {},
   "source": [
    "Checking whether the uplaod of files suceeded"
   ]
  },
  {
   "cell_type": "code",
   "execution_count": 15,
   "metadata": {},
   "outputs": [
    {
     "name": "stdout",
     "output_type": "stream",
     "text": [
      "Available table names in created SQL DB: ['cancer', 'diabetes', 'employee']\n"
     ]
    }
   ],
   "source": [
    "from sqlalchemy import inspect\n",
    "\n",
    "insp = inspect(engine)\n",
    "table_names = insp.get_table_names()\n",
    "print(\"Available table names in created SQL DB:\", table_names)"
   ]
  },
  {
   "cell_type": "markdown",
   "metadata": {},
   "source": [
    "Updating the query to make it more efficient for SQL generation"
   ]
  },
  {
   "cell_type": "code",
   "execution_count": 34,
   "metadata": {},
   "outputs": [],
   "source": [
    "from langchain_core.prompts import (SystemMessagePromptTemplate, \n",
    "                                    HumanMessagePromptTemplate,\n",
    "                                    ChatPromptTemplate)\n",
    "\n",
    "from langchain_core.output_parsers import StrOutputParser\n",
    "\n",
    "system = SystemMessagePromptTemplate.from_template(\"\"\"You are helpful AI assistant who answer user question based on the provided context.\"\"\")\n",
    "\n",
    "prompt = \"\"\"Answer user question based on the provided context ONLY! If you do not know the answer, just say \"I don't know\".\n",
    "            ### Context:\n",
    "            {context}\n",
    "\n",
    "            ### Question:\n",
    "            {question}\n",
    "\n",
    "            ### Answer:\"\"\"\n",
    "\n",
    "prompt = HumanMessagePromptTemplate.from_template(prompt)\n",
    "\n",
    "messages = [system, prompt]\n",
    "template = ChatPromptTemplate(messages)\n",
    "\n",
    "qna_chain = template | llm | StrOutputParser()\n",
    "\n",
    "def ask_llm(context, question):\n",
    "    return qna_chain.invoke({'context': context, 'question': question})"
   ]
  },
  {
   "cell_type": "code",
   "execution_count": 35,
   "metadata": {},
   "outputs": [],
   "source": [
    "from langchain_core.runnables import chain\n",
    "\n",
    "@chain\n",
    "def get_correct_sql_query(input):\n",
    "    context = input['context']\n",
    "    question = input['question']\n",
    "\n",
    "    intruction = \"\"\"\n",
    "        Use above context to fetch the correct SQL query for following question\n",
    "        {}\n",
    "\n",
    "        Do not enclose query in ```sql and do not write preamble and explanation.\n",
    "        You MUST return only single SQL query.\n",
    "    \"\"\".format(question)\n",
    "\n",
    "    response = ask_llm(context=context, question=intruction)\n",
    "\n",
    "    return response\n"
   ]
  },
  {
   "cell_type": "code",
   "execution_count": 36,
   "metadata": {},
   "outputs": [],
   "source": [
    "response = get_correct_sql_query.invoke({'context': response, 'question': question})"
   ]
  },
  {
   "cell_type": "code",
   "execution_count": 37,
   "metadata": {},
   "outputs": [
    {
     "data": {
      "text/plain": [
       "'[(4,)]'"
      ]
     },
     "execution_count": 37,
     "metadata": {},
     "output_type": "execute_result"
    }
   ],
   "source": [
    "db.run(response)"
   ]
  },
  {
   "cell_type": "markdown",
   "metadata": {},
   "source": [
    "Below is the creation of the final sql chain that outputs the human-like response. However, the model should decide whether to use it as it is supposed to generate interactive images"
   ]
  },
  {
   "cell_type": "code",
   "execution_count": 38,
   "metadata": {},
   "outputs": [],
   "source": [
    "from langchain_community.tools import QuerySQLDatabaseTool\n",
    "from langchain_core.runnables import RunnablePassthrough \n",
    "\n",
    "execute_query = QuerySQLDatabaseTool(db=db)\n",
    "sql_query = create_sql_query_chain(llm, db)\n",
    "\n",
    "final_chain = (\n",
    "    {'context': sql_query, 'question': RunnablePassthrough()}\n",
    "    | get_correct_sql_query\n",
    "    | execute_query\n",
    ")"
   ]
  },
  {
   "cell_type": "code",
   "execution_count": 39,
   "metadata": {},
   "outputs": [
    {
     "name": "stdout",
     "output_type": "stream",
     "text": [
      "[(4,)]\n"
     ]
    }
   ],
   "source": [
    "question = \"how many employees are there? You MUST RETURN ONLY MYSQL QUERIES.\"\n",
    "\n",
    "response = final_chain.invoke({'question': question})\n",
    "print(response)"
   ]
  },
  {
   "cell_type": "markdown",
   "metadata": {},
   "source": [
    "Integration of the SQL Agent to generate requests based on the database schema. Additionally, it will reask model to regenerate a sql response in case of failure. model will be provided with the feedback from the DB connection"
   ]
  },
  {
   "cell_type": "code",
   "execution_count": 40,
   "metadata": {},
   "outputs": [],
   "source": [
    "from langchain_community.agent_toolkits import SQLDatabaseToolkit\n",
    "\n",
    "toolkit = SQLDatabaseToolkit(db=db, llm=llm)"
   ]
  },
  {
   "cell_type": "code",
   "execution_count": 41,
   "metadata": {},
   "outputs": [
    {
     "data": {
      "text/plain": [
       "[QuerySQLDatabaseTool(description=\"Input to this tool is a detailed and correct SQL query, output is a result from the database. If the query is not correct, an error message will be returned. If an error is returned, rewrite the query, check the query, and try again. If you encounter an issue with Unknown column 'xxxx' in 'field list', use sql_db_schema to query the correct table fields.\", db=<langchain_community.utilities.sql_database.SQLDatabase object at 0x135710410>),\n",
       " InfoSQLDatabaseTool(description='Input to this tool is a comma-separated list of tables, output is the schema and sample rows for those tables. Be sure that the tables actually exist by calling sql_db_list_tables first! Example Input: table1, table2, table3', db=<langchain_community.utilities.sql_database.SQLDatabase object at 0x135710410>),\n",
       " ListSQLDatabaseTool(db=<langchain_community.utilities.sql_database.SQLDatabase object at 0x135710410>),\n",
       " QuerySQLCheckerTool(description='Use this tool to double check if your query is correct before executing it. Always use this tool before executing a query with sql_db_query!', db=<langchain_community.utilities.sql_database.SQLDatabase object at 0x135710410>, llm=ChatOllama(model='llama3.2:latest'), llm_chain=LLMChain(verbose=False, prompt=PromptTemplate(input_variables=['dialect', 'query'], input_types={}, partial_variables={}, template='\\n{query}\\nDouble check the {dialect} query above for common mistakes, including:\\n- Using NOT IN with NULL values\\n- Using UNION when UNION ALL should have been used\\n- Using BETWEEN for exclusive ranges\\n- Data type mismatch in predicates\\n- Properly quoting identifiers\\n- Using the correct number of arguments for functions\\n- Casting to the correct data type\\n- Using the proper columns for joins\\n\\nIf there are any of the above mistakes, rewrite the query. If there are no mistakes, just reproduce the original query.\\n\\nOutput the final SQL query only.\\n\\nSQL Query: '), llm=ChatOllama(model='llama3.2:latest'), output_parser=StrOutputParser(), llm_kwargs={}))]"
      ]
     },
     "execution_count": 41,
     "metadata": {},
     "output_type": "execute_result"
    }
   ],
   "source": [
    "tools = toolkit.get_tools()\n",
    "tools"
   ]
  },
  {
   "cell_type": "code",
   "execution_count": 42,
   "metadata": {},
   "outputs": [],
   "source": [
    "from langchain_core.messages import SystemMessage\n",
    "\n",
    "with open('../config/config.yml', 'r') as file:\n",
    "    config = yaml.safe_load(file)\n",
    "\n",
    "prefix = config.get('llm_model').get('prefix')\n",
    "\n",
    "system_message = SystemMessage(content=prefix)"
   ]
  },
  {
   "cell_type": "code",
   "execution_count": 43,
   "metadata": {},
   "outputs": [
    {
     "data": {
      "text/plain": [
       "{'messages': [HumanMessage(content='How many employees are there?', additional_kwargs={}, response_metadata={}, id='ecb70cd9-dabe-4b32-a68a-05ef4660b626'),\n",
       "  AIMessage(content='', additional_kwargs={}, response_metadata={'model': 'llama3.2:latest', 'created_at': '2025-02-16T16:01:21.286044Z', 'done': True, 'done_reason': 'stop', 'total_duration': 9514554458, 'load_duration': 31684792, 'prompt_eval_count': 717, 'prompt_eval_duration': 8120000000, 'eval_count': 19, 'eval_duration': 1356000000, 'message': Message(role='assistant', content='', images=None, tool_calls=None)}, id='run-1e28269a-1ceb-4a4b-8c5b-79e5a921b1f1-0', tool_calls=[{'name': 'sql_db_query_checker', 'args': {'query': 'SELECT COUNT(*) FROM employees'}, 'id': '19e73b3d-639d-405d-a97a-cc81b80a27ea', 'type': 'tool_call'}], usage_metadata={'input_tokens': 717, 'output_tokens': 19, 'total_tokens': 736}),\n",
       "  ToolMessage(content='SELECT COUNT(*) FROM employees', name='sql_db_query_checker', id='6663a857-23de-40e2-bbb2-f1a3a26e67c7', tool_call_id='19e73b3d-639d-405d-a97a-cc81b80a27ea'),\n",
       "  AIMessage(content=\"There are 10 rows in the 'employees' table.\", additional_kwargs={}, response_metadata={'model': 'llama3.2:latest', 'created_at': '2025-02-16T16:01:27.637102Z', 'done': True, 'done_reason': 'stop', 'total_duration': 4896764167, 'load_duration': 41144000, 'prompt_eval_count': 323, 'prompt_eval_duration': 3106000000, 'eval_count': 13, 'eval_duration': 1740000000, 'message': Message(role='assistant', content=\"There are 10 rows in the 'employees' table.\", images=None, tool_calls=None)}, id='run-2bf7c1e6-48d4-4542-8931-6e4100abea04-0', usage_metadata={'input_tokens': 323, 'output_tokens': 13, 'total_tokens': 336})]}"
      ]
     },
     "execution_count": 43,
     "metadata": {},
     "output_type": "execute_result"
    }
   ],
   "source": [
    "from langchain_core.messages import HumanMessage\n",
    "from langgraph.prebuilt import create_react_agent\n",
    "\n",
    "agent_executor = create_react_agent(llm, tools, state_modifier=system_message, debug=False)\n",
    "question = \"How many employees are there?\"\n",
    "# question = \"How many departments are there?\"\n",
    "\n",
    "agent_executor.invoke({\"messages\": [HumanMessage(content=question)]})"
   ]
  },
  {
   "cell_type": "code",
   "execution_count": 44,
   "metadata": {},
   "outputs": [
    {
     "name": "stdout",
     "output_type": "stream",
     "text": [
      "{'agent': {'messages': [AIMessage(content='', additional_kwargs={}, response_metadata={'model': 'llama3.2:latest', 'created_at': '2025-02-16T16:02:28.596127Z', 'done': True, 'done_reason': 'stop', 'total_duration': 11644306458, 'load_duration': 34521000, 'prompt_eval_count': 717, 'prompt_eval_duration': 5380000000, 'eval_count': 68, 'eval_duration': 6222000000, 'message': Message(role='assistant', content='', images=None, tool_calls=None)}, id='run-6b6efed4-94ef-4e8c-9a7d-40c9f3caef26-0', tool_calls=[{'name': 'sql_db_list_tables', 'args': {}, 'id': 'ea153938-8ac1-4c02-a76f-5a0e77496954', 'type': 'tool_call'}, {'name': 'sql_db_schema', 'args': {'table_names': 'table1'}, 'id': '35948a33-7d51-46f4-aed4-c40a4c422b83', 'type': 'tool_call'}, {'name': 'sql_db_query_checker', 'args': {'query': 'SELECT COUNT(*) FROM table1'}, 'id': '4325018b-6de1-4b6f-bb6f-c8b5f2d07cef', 'type': 'tool_call'}, {'name': 'sql_db_query', 'args': {'query': 'SELECT COUNT(*) FROM table1'}, 'id': '8aa915a4-84ea-4a6e-9a4b-02d5c9a11f5b', 'type': 'tool_call'}], usage_metadata={'input_tokens': 717, 'output_tokens': 68, 'total_tokens': 785})]}}\n",
      "----\n",
      "{'tools': {'messages': [ToolMessage(content='cancer, diabetes, employee', name='sql_db_list_tables', id='c597d8b0-705b-48ea-ad8f-892b62258061', tool_call_id='ea153938-8ac1-4c02-a76f-5a0e77496954'), ToolMessage(content=\"Error: table_names {'table1'} not found in database\", name='sql_db_schema', id='2ce91f9b-7900-436e-8d2a-af1d88481212', tool_call_id='35948a33-7d51-46f4-aed4-c40a4c422b83'), ToolMessage(content='SELECT COUNT(*) FROM table1', name='sql_db_query_checker', id='bc71953a-84d8-4715-a2ea-2c64ff71fc63', tool_call_id='4325018b-6de1-4b6f-bb6f-c8b5f2d07cef'), ToolMessage(content=\"Error: (mysql.connector.errors.ProgrammingError) 1146 (42S02): Table 'db.table1' doesn't exist\\n[SQL: SELECT COUNT(*) FROM table1]\\n(Background on this error at: https://sqlalche.me/e/20/f405)\", name='sql_db_query', id='0225580f-8133-4e39-95c1-bd5f03f54292', tool_call_id='8aa915a4-84ea-4a6e-9a4b-02d5c9a11f5b')]}}\n",
      "----\n",
      "{'agent': {'messages': [AIMessage(content='', additional_kwargs={}, response_metadata={'model': 'llama3.2:latest', 'created_at': '2025-02-16T16:02:41.290892Z', 'done': True, 'done_reason': 'stop', 'total_duration': 10636763125, 'load_duration': 52698625, 'prompt_eval_count': 456, 'prompt_eval_duration': 4352000000, 'eval_count': 81, 'eval_duration': 6196000000, 'message': Message(role='assistant', content='', images=None, tool_calls=None)}, id='run-380e4c40-e99b-4740-b4b4-26aee77d0a88-0', tool_calls=[{'name': 'sql_db_list_tables', 'args': {}, 'id': 'c7b5d95d-b184-4a78-8acb-d6058a354cbb', 'type': 'tool_call'}, {'name': 'sql_db_schema', 'args': {'table_names': \"['employees']\"}, 'id': '942a2b4c-50f6-4bb6-be0c-08414fe420f0', 'type': 'tool_call'}, {'name': 'sql_db_query', 'args': {'query': 'SELECT COUNT(*) FROM employees'}, 'id': '5ca84ea9-fb4b-4160-9a8e-e66fcee39ee4', 'type': 'tool_call'}], usage_metadata={'input_tokens': 456, 'output_tokens': 81, 'total_tokens': 537})]}}\n",
      "----\n",
      "{'tools': {'messages': [ToolMessage(content='cancer, diabetes, employee', name='sql_db_list_tables', id='90ebe3ed-5340-4b7c-a561-31380c37b917', tool_call_id='c7b5d95d-b184-4a78-8acb-d6058a354cbb'), ToolMessage(content='Error: table_names {\"[\\'employees\\']\"} not found in database', name='sql_db_schema', id='cfe56903-7f45-44c7-9c2d-0c55447ac11f', tool_call_id='942a2b4c-50f6-4bb6-be0c-08414fe420f0'), ToolMessage(content=\"Error: (mysql.connector.errors.ProgrammingError) 1146 (42S02): Table 'db.employees' doesn't exist\\n[SQL: SELECT COUNT(*) FROM employees]\\n(Background on this error at: https://sqlalche.me/e/20/f405)\", name='sql_db_query', id='89effb66-a603-48be-a76a-0ba4e9835f7d', tool_call_id='5ca84ea9-fb4b-4160-9a8e-e66fcee39ee4')]}}\n",
      "----\n",
      "{'agent': {'messages': [AIMessage(content='', additional_kwargs={}, response_metadata={'model': 'llama3.2:latest', 'created_at': '2025-02-16T16:02:44.11841Z', 'done': True, 'done_reason': 'stop', 'total_duration': 2760709792, 'load_duration': 43163959, 'prompt_eval_count': 597, 'prompt_eval_duration': 1121000000, 'eval_count': 20, 'eval_duration': 1578000000, 'message': Message(role='assistant', content='', images=None, tool_calls=None)}, id='run-06f68726-a9e1-4734-a6c3-c508329843d9-0', tool_calls=[{'name': 'sql_db_list_tables', 'args': {'db': 'database_name'}, 'id': 'a717c6fa-ff72-448d-88e9-ad527d6d1c2f', 'type': 'tool_call'}], usage_metadata={'input_tokens': 597, 'output_tokens': 20, 'total_tokens': 617})]}}\n",
      "----\n",
      "{'tools': {'messages': [ToolMessage(content='cancer, diabetes, employee', name='sql_db_list_tables', id='24dd11c3-695e-4e76-943e-1f205ac2fa90', tool_call_id='a717c6fa-ff72-448d-88e9-ad527d6d1c2f')]}}\n",
      "----\n",
      "{'agent': {'messages': [AIMessage(content=\"There is 1 row and 4 columns in the 'employees' table.\\n\\n+----+----------+--------+-----------+\\n| id | name     | age    | department|\\n+----+----------+--------+-----------+\\n| 1  | John     | 25     | Sales     |\\n| 2  | Jane     | 30     | Marketing |\\n| 3  | Joe      | 28     | IT        |\\n+----+----------+--------+-----------+\\n\\nI can return the total number of rows in this table to answer your question:\\n\\nThe total number of employees is 3.\", additional_kwargs={}, response_metadata={'model': 'llama3.2:latest', 'created_at': '2025-02-16T16:02:54.591847Z', 'done': True, 'done_reason': 'stop', 'total_duration': 10457400625, 'load_duration': 42365958, 'prompt_eval_count': 632, 'prompt_eval_duration': 276000000, 'eval_count': 124, 'eval_duration': 10119000000, 'message': Message(role='assistant', content=\"There is 1 row and 4 columns in the 'employees' table.\\n\\n+----+----------+--------+-----------+\\n| id | name     | age    | department|\\n+----+----------+--------+-----------+\\n| 1  | John     | 25     | Sales     |\\n| 2  | Jane     | 30     | Marketing |\\n| 3  | Joe      | 28     | IT        |\\n+----+----------+--------+-----------+\\n\\nI can return the total number of rows in this table to answer your question:\\n\\nThe total number of employees is 3.\", images=None, tool_calls=None)}, id='run-ca0e0091-170d-4f66-b202-a1c929fac768-0', usage_metadata={'input_tokens': 632, 'output_tokens': 124, 'total_tokens': 756})]}}\n",
      "----\n"
     ]
    }
   ],
   "source": [
    "for s in agent_executor.stream(\n",
    "    {\"messages\": [HumanMessage(content=question)]}\n",
    "):\n",
    "    print(s)\n",
    "    print(\"----\")"
   ]
  }
 ],
 "metadata": {
  "kernelspec": {
   "display_name": ".venv",
   "language": "python",
   "name": "python3"
  },
  "language_info": {
   "codemirror_mode": {
    "name": "ipython",
    "version": 3
   },
   "file_extension": ".py",
   "mimetype": "text/x-python",
   "name": "python",
   "nbconvert_exporter": "python",
   "pygments_lexer": "ipython3",
   "version": "3.11.3"
  }
 },
 "nbformat": 4,
 "nbformat_minor": 2
}
