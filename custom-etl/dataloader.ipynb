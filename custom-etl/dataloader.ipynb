{
 "cells": [
  {
   "cell_type": "code",
   "execution_count": 26,
   "metadata": {},
   "outputs": [],
   "source": [
    "import kagglehub\n",
    "import os\n",
    "import pandas as pd\n",
    "\n",
    "# Download latest version\n",
    "folder = kagglehub.dataset_download(\"rohitsahoo/sales-forecasting\")\n",
    "path = folder + \"/train.csv\"\n",
    "\n",
    "df = pd.read_csv(path)"
   ]
  },
  {
   "cell_type": "code",
   "execution_count": null,
   "metadata": {},
   "outputs": [],
   "source": [
    "import mysql.connector\n",
    "\n",
    "connection = mysql.connector.connect(\n",
    "    host=\"localhost\",         \n",
    "    user=\"new_user\",     \n",
    "    password=\"user\", \n",
    "    database=\"db\",  \n",
    "    port=3311\n",
    ")\n",
    "\n",
    "cursor = connection.cursor()"
   ]
  },
  {
   "cell_type": "code",
   "execution_count": null,
   "metadata": {},
   "outputs": [],
   "source": [
    "df.isnull().sum()"
   ]
  },
  {
   "cell_type": "code",
   "execution_count": 27,
   "metadata": {},
   "outputs": [],
   "source": [
    "df = df.where(pd.notna(df), None)"
   ]
  },
  {
   "cell_type": "code",
   "execution_count": 28,
   "metadata": {},
   "outputs": [],
   "source": [
    "df['Order Date'] = pd.to_datetime(df['Order Date'], format='%d/%m/%Y').dt.strftime('%Y-%m-%d')\n",
    "df['Ship Date'] = pd.to_datetime(df['Ship Date'], format='%d/%m/%Y').dt.strftime('%Y-%m-%d')\n",
    "df['Postal Code'] = df['Postal Code'].fillna(0).astype(int)"
   ]
  },
  {
   "cell_type": "code",
   "execution_count": 29,
   "metadata": {},
   "outputs": [],
   "source": [
    "df[\"Order Date\"] = pd.to_datetime(df[\"Order Date\"])\n",
    "df[\"Ship Date\"] = pd.to_datetime(df[\"Ship Date\"])"
   ]
  },
  {
   "cell_type": "code",
   "execution_count": 30,
   "metadata": {},
   "outputs": [
    {
     "data": {
      "text/plain": [
       "Row ID                    int64\n",
       "Order ID                 object\n",
       "Order Date       datetime64[ns]\n",
       "Ship Date        datetime64[ns]\n",
       "Ship Mode                object\n",
       "Customer ID              object\n",
       "Customer Name            object\n",
       "Segment                  object\n",
       "Country                  object\n",
       "City                     object\n",
       "State                    object\n",
       "Postal Code               int64\n",
       "Region                   object\n",
       "Product ID               object\n",
       "Category                 object\n",
       "Sub-Category             object\n",
       "Product Name             object\n",
       "Sales                   float64\n",
       "dtype: object"
      ]
     },
     "execution_count": 30,
     "metadata": {},
     "output_type": "execute_result"
    }
   ],
   "source": [
    "df.dtypes"
   ]
  },
  {
   "cell_type": "code",
   "execution_count": null,
   "metadata": {},
   "outputs": [],
   "source": [
    "for index, row in df.iterrows():\n",
    "    sql = \"\"\"\n",
    "    INSERT INTO orders (row_id, order_id, order_date, ship_date, ship_mode, customer_id, \n",
    "                        customer_name, segment, country, city, state, postal_code, region, \n",
    "                        product_id, category, sub_category, product_name, sales)\n",
    "    VALUES (%s, %s, %s, %s, %s, %s, %s, %s, %s, %s, %s, %s, %s, %s, %s, %s, %s, %s)\n",
    "    \"\"\"\n",
    "    cursor.execute(sql, (\n",
    "        row['Row ID'], row['Order ID'], row['Order Date'], row['Ship Date'], row['Ship Mode'], \n",
    "        row['Customer ID'], row['Customer Name'], row['Segment'], row['Country'], row['City'], \n",
    "        row['State'], row['Postal Code'], row['Region'], row['Product ID'], row['Category'], \n",
    "        row['Sub-Category'], row['Product Name'], row['Sales']\n",
    "    ))\n",
    "\n",
    "\n",
    "connection.commit()"
   ]
  },
  {
   "cell_type": "markdown",
   "metadata": {},
   "source": [
    "Code to fill in the data for the dimension tables"
   ]
  },
  {
   "cell_type": "code",
   "execution_count": 17,
   "metadata": {},
   "outputs": [
    {
     "data": {
      "text/html": [
       "<div>\n",
       "<style scoped>\n",
       "    .dataframe tbody tr th:only-of-type {\n",
       "        vertical-align: middle;\n",
       "    }\n",
       "\n",
       "    .dataframe tbody tr th {\n",
       "        vertical-align: top;\n",
       "    }\n",
       "\n",
       "    .dataframe thead th {\n",
       "        text-align: right;\n",
       "    }\n",
       "</style>\n",
       "<table border=\"1\" class=\"dataframe\">\n",
       "  <thead>\n",
       "    <tr style=\"text-align: right;\">\n",
       "      <th></th>\n",
       "      <th>Row ID</th>\n",
       "      <th>Order ID</th>\n",
       "      <th>Order Date</th>\n",
       "      <th>Ship Date</th>\n",
       "      <th>Ship Mode</th>\n",
       "      <th>Customer ID</th>\n",
       "      <th>Customer Name</th>\n",
       "      <th>Segment</th>\n",
       "      <th>Country</th>\n",
       "      <th>City</th>\n",
       "      <th>State</th>\n",
       "      <th>Postal Code</th>\n",
       "      <th>Region</th>\n",
       "      <th>Product ID</th>\n",
       "      <th>Category</th>\n",
       "      <th>Sub-Category</th>\n",
       "      <th>Product Name</th>\n",
       "      <th>Sales</th>\n",
       "    </tr>\n",
       "  </thead>\n",
       "  <tbody>\n",
       "    <tr>\n",
       "      <th>0</th>\n",
       "      <td>1</td>\n",
       "      <td>CA-2017-152156</td>\n",
       "      <td>2017-11-08</td>\n",
       "      <td>2017-11-11</td>\n",
       "      <td>Second Class</td>\n",
       "      <td>CG-12520</td>\n",
       "      <td>Claire Gute</td>\n",
       "      <td>Consumer</td>\n",
       "      <td>United States</td>\n",
       "      <td>Henderson</td>\n",
       "      <td>Kentucky</td>\n",
       "      <td>42420</td>\n",
       "      <td>South</td>\n",
       "      <td>FUR-BO-10001798</td>\n",
       "      <td>Furniture</td>\n",
       "      <td>Bookcases</td>\n",
       "      <td>Bush Somerset Collection Bookcase</td>\n",
       "      <td>261.96</td>\n",
       "    </tr>\n",
       "    <tr>\n",
       "      <th>1</th>\n",
       "      <td>2</td>\n",
       "      <td>CA-2017-152156</td>\n",
       "      <td>2017-11-08</td>\n",
       "      <td>2017-11-11</td>\n",
       "      <td>Second Class</td>\n",
       "      <td>CG-12520</td>\n",
       "      <td>Claire Gute</td>\n",
       "      <td>Consumer</td>\n",
       "      <td>United States</td>\n",
       "      <td>Henderson</td>\n",
       "      <td>Kentucky</td>\n",
       "      <td>42420</td>\n",
       "      <td>South</td>\n",
       "      <td>FUR-CH-10000454</td>\n",
       "      <td>Furniture</td>\n",
       "      <td>Chairs</td>\n",
       "      <td>Hon Deluxe Fabric Upholstered Stacking Chairs,...</td>\n",
       "      <td>731.94</td>\n",
       "    </tr>\n",
       "  </tbody>\n",
       "</table>\n",
       "</div>"
      ],
      "text/plain": [
       "   Row ID        Order ID Order Date  Ship Date     Ship Mode Customer ID  \\\n",
       "0       1  CA-2017-152156 2017-11-08 2017-11-11  Second Class    CG-12520   \n",
       "1       2  CA-2017-152156 2017-11-08 2017-11-11  Second Class    CG-12520   \n",
       "\n",
       "  Customer Name   Segment        Country       City     State  Postal Code  \\\n",
       "0   Claire Gute  Consumer  United States  Henderson  Kentucky        42420   \n",
       "1   Claire Gute  Consumer  United States  Henderson  Kentucky        42420   \n",
       "\n",
       "  Region       Product ID   Category Sub-Category  \\\n",
       "0  South  FUR-BO-10001798  Furniture    Bookcases   \n",
       "1  South  FUR-CH-10000454  Furniture       Chairs   \n",
       "\n",
       "                                        Product Name   Sales  \n",
       "0                  Bush Somerset Collection Bookcase  261.96  \n",
       "1  Hon Deluxe Fabric Upholstered Stacking Chairs,...  731.94  "
      ]
     },
     "execution_count": 17,
     "metadata": {},
     "output_type": "execute_result"
    }
   ],
   "source": [
    "df.head(2)"
   ]
  },
  {
   "cell_type": "code",
   "execution_count": 36,
   "metadata": {},
   "outputs": [],
   "source": [
    "import mysql.connector\n",
    "\n",
    "connection = mysql.connector.connect(\n",
    "    host=\"localhost\",         \n",
    "    user=\"new_user\",     \n",
    "    password=\"user\", \n",
    "    database=\"db\",  \n",
    "    port=3311\n",
    ")\n",
    "\n",
    "cursor = connection.cursor()"
   ]
  },
  {
   "cell_type": "code",
   "execution_count": 44,
   "metadata": {},
   "outputs": [],
   "source": [
    "query_location = \"\"\"insert into location (postal_code, country, region, city, state)\n",
    "SELECT * FROM (SELECT %s, %s, %s, %s, %s) AS tmp\n",
    "WHERE NOT EXISTS (\n",
    "    SELECT 1 FROM location WHERE postal_code = %s\n",
    ");\n",
    "\"\"\"\n",
    "\n",
    "query_customer = \"\"\"insert into customer (customer_id, customer_name, segment)\n",
    "SELECT * FROM (SELECT %s, %s, %s) AS tmp\n",
    "WHERE NOT EXISTS (\n",
    "    SELECT 1 FROM customer WHERE customer_id = %s\n",
    ");\n",
    "\"\"\"\n",
    "\n",
    "query_product = \"\"\"insert into product (product_id , category, sub_category, product_name)\n",
    "SELECT * FROM (SELECT %s, %s, %s, %s) AS tmp\n",
    "WHERE NOT EXISTS (\n",
    "    SELECT 1 FROM product WHERE product_id = %s\n",
    ");\n",
    "\"\"\"\n",
    "\n",
    "query_order = \"\"\"insert ignore into order_dim (order_id , order_date, ship_date, ship_mode)\n",
    "values (%s, %s, %s, %s)\n",
    "\"\"\"\n",
    "\n",
    "query_sales = \"\"\"insert into sales (row_id, postal_code, customer_id, product_id, order_id, sales)\n",
    "values (%s, %s, %s, %s, %s, %s);\n",
    "\"\"\""
   ]
  },
  {
   "cell_type": "code",
   "execution_count": null,
   "metadata": {},
   "outputs": [],
   "source": [
    "batch_size = 0\n",
    "\n",
    "for _, row in df.iterrows():\n",
    "    cursor.execute(query_location, (\n",
    "        row['Postal Code'], row['Country'], row['Region'], row['City'], row['State'], row['Postal Code']\n",
    "    ))\n",
    "\n",
    "    cursor.execute(query_customer, (\n",
    "        row['Customer ID'], row['Customer Name'], row['Segment'], row['Customer ID']\n",
    "    ))\n",
    "\n",
    "    cursor.execute(query_product, (\n",
    "        row['Product ID'], row['Category'], row['Sub-Category'], row['Product Name'], row['Product ID']\n",
    "    ))\n",
    "\n",
    "    cursor.execute(query_order, (\n",
    "        row['Order ID'], row['Order Date'], row['Ship Date'], row['Ship Mode']\n",
    "    ))\n",
    "\n",
    "    cursor.execute(query_sales, (\n",
    "        row['Row ID'], row[\"Postal Code\"], row['Customer ID'], row['Product ID'], row['Order ID'], row['Sales']\n",
    "    ))\n",
    "\n",
    "    if batch_size < 2:\n",
    "        print(\"after sales\")\n",
    "\n",
    "    batch_size += 1\n",
    "\n",
    "    if batch_size % 100 == 0:\n",
    "        connection.commit()\n",
    "\n",
    "connection.commit()\n",
    "cursor.close()\n",
    "connection.close()"
   ]
  },
  {
   "cell_type": "markdown",
   "metadata": {},
   "source": []
  }
 ],
 "metadata": {
  "kernelspec": {
   "display_name": ".venv",
   "language": "python",
   "name": "python3"
  },
  "language_info": {
   "codemirror_mode": {
    "name": "ipython",
    "version": 3
   },
   "file_extension": ".py",
   "mimetype": "text/x-python",
   "name": "python",
   "nbconvert_exporter": "python",
   "pygments_lexer": "ipython3",
   "version": "3.11.3"
  }
 },
 "nbformat": 4,
 "nbformat_minor": 2
}
