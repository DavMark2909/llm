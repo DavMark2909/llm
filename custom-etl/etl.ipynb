{
 "cells": [
  {
   "cell_type": "code",
   "execution_count": null,
   "metadata": {},
   "outputs": [
    {
     "name": "stdout",
     "output_type": "stream",
     "text": [
      "Connected to MySQL database\n"
     ]
    }
   ],
   "source": [
    "import mysql.connector\n",
    "\n",
    "# Establishing the connection\n",
    "connection = mysql.connector.connect(\n",
    "    host=\"localhost\",         # For example, \"localhost\" or IP address\n",
    "    user=\"new_user\",     # Your MySQL username\n",
    "    password=\"user\", # Your MySQL password\n",
    "    database=\"db\",  # The database you want to connect to\n",
    "    port=3311\n",
    "\n",
    ")\n",
    "\n",
    "if connection.is_connected():\n",
    "    print(\"Connected to MySQL database\")\n",
    "\n",
    "cursor = connection.cursor()\n",
    "\n",
    "cursor.execute(\"SELECT * FROM supermarket\")\n",
    "\n",
    "result = cursor.fetchall()\n",
    "\n",
    "# for row in result:\n",
    "row = result[0]\n",
    "id = row[0]\n",
    "branch = row[1]\n",
    "city = row[2]\n",
    "type = row[3]\n",
    "gender = row[4]\n",
    "line = row[5]\n",
    "price = row[6]\n",
    "quantity = row[7]\n",
    "tax = row[8]\n",
    "total = row[9]\n",
    "date = row[10]\n",
    "time = row[11]\n",
    "payment = row[12]\n",
    "cogs = row[13]\n",
    "margin = row[14]\n",
    "income = row[15]\n",
    "rating = row[16]\n",
    "\n",
    "b = \"INSERT IGNORE INTO Dim_Branch (Branch, City) VALUES (%s, %s)\"\n",
    "customer = \"INSERT IGNORE INTO Dim_Customer (CustomerType, Gender) VALUES (%s, %s)\"\n",
    "product = \"INSERT IGNORE INTO Dim_Product (ProductLine) VALUES (%s)\"\n",
    "p = \"INSERT IGNORE INTO Dim_Payment (Payment) VALUES (%s)\"\n",
    "d = \"INSERT IGNORE INTO Dim_Date (Date, Year, Month, Day, Weekday) VALUES (%s, %s, %s, %s, %s)\"\n",
    "\n",
    "final = \"\"\"INSERT INTO Fact_Sales \n",
    "(InvoiceID, Branch, CustomerType, Gender, ProductLine, Date, Payment, \n",
    "UnitPrice, Quantity, Tax, Total, COGS, GrossMarginPercentage, GrossIncome, Rating) \n",
    "VALUES (%s, %s, %s, %s, %s, %s, %s, %s, %s, %s, %s, %s, %s, %s, %s)\"\"\"\n",
    "\n",
    "\n",
    "cursor.execute(b, (branch, city))\n",
    "cursor.execute(customer, (type, gender))\n",
    "cursor.execute(product, (line, ))\n",
    "cursor.execute(p, (payment, ))\n",
    "cursor.execute(d, (\"2022-05-12\", 2022, 5, 12, \"Friday\"))\n",
    "connection.commit()\n",
    "# cursor.execute(final, (id, branch, type, gender, line, date, payment, price, quantity, tax, total, cogs, margin, income, rating))\n",
    "# connection.commit()\n",
    "\n",
    "cursor.close()\n",
    "connection.close()\n",
    "\n",
    "\n"
   ]
  },
  {
   "cell_type": "code",
   "execution_count": 3,
   "metadata": {},
   "outputs": [
    {
     "name": "stdout",
     "output_type": "stream",
     "text": [
      "Connected to MySQL database\n"
     ]
    }
   ],
   "source": [
    "import mysql.connector\n",
    "\n",
    "connection = mysql.connector.connect(\n",
    "    host=\"localhost\",         # For example, \"localhost\" or IP address\n",
    "    user=\"new_user\",     # Your MySQL username\n",
    "    password=\"user\", # Your MySQL password\n",
    "    database=\"db\",  # The database you want to connect to\n",
    "    port=3311\n",
    ")\n",
    "\n",
    "if connection.is_connected():\n",
    "    print(\"Connected to MySQL database\")\n",
    "\n",
    "cursor = connection.cursor()\n",
    "\n",
    "cursor.execute(\"SELECT * FROM supermarket\")\n",
    "\n",
    "result = cursor.fetchall()\n",
    "\n",
    "d = \"INSERT IGNORE INTO Dim_Date (Date, Year, Month, Day, Weekday) VALUES (%s, %s, %s, %s, %s)\"\n",
    "cursor.execute(d, (\"2022-05-12\", 2022, 5, 12, \"Friday\"))\n",
    "connection.commit()\n",
    "\n",
    "row = result[0]\n",
    "id = row[0]\n",
    "branch = row[1]\n",
    "city = row[2]\n",
    "type = row[3]\n",
    "gender = row[4]\n",
    "line = row[5]\n",
    "price = row[6]\n",
    "quantity = row[7]\n",
    "tax = row[8]\n",
    "total = row[9]\n",
    "date = \"2022-05-12\"\n",
    "time = row[11]\n",
    "payment = row[12]\n",
    "cogs = row[13]\n",
    "margin = row[14]\n",
    "income = row[15]\n",
    "rating = row[16]\n",
    "\n",
    "final = \"\"\"INSERT INTO Fact_Sales \n",
    "(InvoiceID, Branch, CustomerType, Gender, ProductLine, Date, Payment, \n",
    "UnitPrice, Quantity, Tax, Total, COGS, GrossMarginPercentage, GrossIncome, Rating) \n",
    "VALUES (%s, %s, %s, %s, %s, %s, %s, %s, %s, %s, %s, %s, %s, %s, %s)\"\"\"\n",
    "\n",
    "cursor.execute(final, (id, branch, type, gender, line, date, payment, price, quantity, tax, total, cogs, margin, income, rating))\n",
    "connection.commit()\n",
    "\n",
    "cursor.close()\n",
    "connection.close()\n"
   ]
  },
  {
   "cell_type": "code",
   "execution_count": null,
   "metadata": {},
   "outputs": [
    {
     "name": "stdout",
     "output_type": "stream",
     "text": [
      "<class 'list'>\n"
     ]
    }
   ],
   "source": [
    "print(type(result))"
   ]
  },
  {
   "cell_type": "code",
   "execution_count": null,
   "metadata": {},
   "outputs": [
    {
     "name": "stdout",
     "output_type": "stream",
     "text": [
      "('750-67-8428', 'A', 'Yangon', 'Member', 'Female', 'Health and beauty', '74.69', 7, '26.1415', 548.9715, '1/5/2019', '13:08', 'Ewallet', 522.83, '4.761904762', '26.1415', 9.1)\n"
     ]
    }
   ],
   "source": [
    "print(result[0])"
   ]
  }
 ],
 "metadata": {
  "kernelspec": {
   "display_name": ".venv",
   "language": "python",
   "name": "python3"
  },
  "language_info": {
   "codemirror_mode": {
    "name": "ipython",
    "version": 3
   },
   "file_extension": ".py",
   "mimetype": "text/x-python",
   "name": "python",
   "nbconvert_exporter": "python",
   "pygments_lexer": "ipython3",
   "version": "3.11.3"
  }
 },
 "nbformat": 4,
 "nbformat_minor": 2
}
