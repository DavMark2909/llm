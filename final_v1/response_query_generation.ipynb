{
 "cells": [
  {
   "cell_type": "code",
   "execution_count": 35,
   "id": "7b8b19ef",
   "metadata": {},
   "outputs": [],
   "source": [
    "import yaml\n",
    "\n",
    "with open(\"config/configs_query.yaml\", \"r\") as f:\n",
    "    data = yaml.safe_load(f)"
   ]
  },
  {
   "cell_type": "code",
   "execution_count": 36,
   "id": "92274f74",
   "metadata": {},
   "outputs": [],
   "source": [
    "import sqlite3\n",
    "\n",
    "conn = sqlite3.connect('test_v1.db')\n",
    "cursor = conn.cursor()"
   ]
  },
  {
   "cell_type": "code",
   "execution_count": 37,
   "id": "40f9840b",
   "metadata": {},
   "outputs": [],
   "source": [
    "from sqlalchemy import create_engine, inspect\n",
    "engine = create_engine('sqlite:///test_v1.db')\n",
    "inspector = inspect(engine)"
   ]
  },
  {
   "cell_type": "code",
   "execution_count": 16,
   "id": "5133b325",
   "metadata": {},
   "outputs": [],
   "source": [
    "import getpass\n",
    "import os\n",
    "\n",
    "if not os.environ.get(\"OPENAI_API_KEY\"):\n",
    "  os.environ[\"OPENAI_API_KEY\"] = getpass.getpass(\"Enter API key for OpenAI: \")\n",
    "\n",
    "from langchain.chat_models import init_chat_model\n",
    "\n",
    "llm = init_chat_model(\"gpt-4o-mini\", model_provider=\"openai\")"
   ]
  },
  {
   "cell_type": "code",
   "execution_count": 24,
   "id": "44aaa140",
   "metadata": {},
   "outputs": [],
   "source": [
    "from typing_extensions import TypedDict\n",
    "\n",
    "class GenQueryState(TypedDict):\n",
    "    user_question: str\n",
    "    tables_content: list[str]\n",
    "    time_aggregation: str\n",
    "    fact_table: str\n",
    "    time_column: str\n",
    "    whole_question: str\n",
    "    main_question: str\n",
    "    query: str\n",
    "    result: str\n",
    "    counter: int\n",
    "    error: str"
   ]
  },
  {
   "cell_type": "code",
   "execution_count": 41,
   "id": "287b9eb1",
   "metadata": {},
   "outputs": [],
   "source": [
    "import re\n",
    "\n",
    "def select_query_extraction(query):\n",
    "    pattern = r'(SELECT.*?;)'\n",
    "    matches = re.findall(pattern, query, re.DOTALL)\n",
    "    if not matches:\n",
    "        raise ValueError(\"No INSERT queries found in the provided text.\")\n",
    "    queries = []\n",
    "    for sql in matches:\n",
    "        queries.append(sql)\n",
    "    return queries[0]\n",
    "\n",
    "def checkTimeAggregation(column):\n",
    "    time_unit = \"\"\n",
    "    if (\"monthly\" in column):\n",
    "        time_unit = \"month\"\n",
    "        return (True, time_unit)\n",
    "    elif (\"hourly\" in column):\n",
    "        time_unit = \"hour\"\n",
    "        return (True, time_unit)\n",
    "    elif (\"daily\" in column or \"weekdaily\" in column):\n",
    "        time_unit = \"day\"\n",
    "        return (True, time_unit)\n",
    "    else:\n",
    "        return (False, time_unit)\n",
    "    \n",
    "def query_parser(query):\n",
    "    print(query)\n",
    "    arr = query.split(\"\\n\");\n",
    "    return \" \".join(arr)\n",
    "\n",
    "def table_content_preparation(state: GenQueryState):\n",
    "    tables = inspector.get_table_names()\n",
    "    tables_res = []\n",
    "    time_aggregation = \"\"\n",
    "    for table_name in tables:\n",
    "        columns = inspector.get_columns(table_name)\n",
    "        cols = []\n",
    "        isFact = \"fact\" in table_name\n",
    "        for column in columns:\n",
    "            cols.append(f\"{column['name']} ({column['type']})\")\n",
    "            if isFact:\n",
    "                (isTime, time_unit) = checkTimeAggregation(column['name'])\n",
    "                if isTime:\n",
    "                    state[\"time_column\"] = column\n",
    "                    time_aggregation = time_unit\n",
    "        cols_str = \",\".join(cols)\n",
    "        cur_res = \"Table \" + table_name\n",
    "        if isFact:\n",
    "            state[\"time_aggregation\"] = time_aggregation\n",
    "            state['fact_table'] = table_name\n",
    "        tables_res.append(cur_res + \": \" + cols_str)\n",
    "    schemas = \"\\n\".join(tables_res)\n",
    "    state[\"tables_content\"] = schemas\n",
    "    return state\n",
    "    \n",
    "def prepare_prompt(state: GenQueryState):\n",
    "    if (state[\"time_aggregation\"] == \"\"):\n",
    "        main_prompt = data['etl']['question'].format(user_question=state['user_question'], table_schemas=state['tables_content'])\n",
    "        whole_prompt = data['template'].format(template=main_prompt)\n",
    "        state[\"main_question\"] = main_prompt\n",
    "        state[\"whole_question\"] = whole_prompt\n",
    "    else:\n",
    "        main_prompt = data['time'][state['time_aggregation']].format(user_question=state['user_question'], fact_table=state[\"fact_table\"], time_column=state['time_column'], table_schemas=state['tables_content'])\n",
    "        whole_prompt = data['template'].format(template=main_prompt)\n",
    "        state[\"main_question\"] = main_prompt\n",
    "        state[\"whole_question\"] = whole_prompt\n",
    "    return state\n",
    "\n",
    "def generate_query(state: GenQueryState):\n",
    "    prompt = state['whole_question']\n",
    "    query = llm.invoke(prompt).content\n",
    "    query = select_query_extraction(query)\n",
    "    query = query_parser(query)\n",
    "    state[\"query\"] = query\n",
    "    try:\n",
    "        res = cursor.execute(query)\n",
    "        state['result'] = res.fetchall()\n",
    "        state['error'] = \"\"\n",
    "    except sqlite3.Error as e:\n",
    "        state['error'] = str(e)\n",
    "        state['counter'] = state['counter'] + 1\n",
    "    return state\n",
    "\n",
    "def error_router(state: GenQueryState):\n",
    "    if state['error'] == \"\":\n",
    "        return \"continue\"\n",
    "    else:\n",
    "        if state['counter'] < 5:\n",
    "            return \"fix_the_query\"\n",
    "        else:\n",
    "            return \"acknowledge_error\"\n",
    "        \n",
    "def correct_query(state: GenQueryState):\n",
    "    state['whole_question'] = data['etl']['correction'].format(user_question=state['main_question'], generated_query=state['query'], error_description=state[\"error\"])\n",
    "    return state\n",
    "\n",
    "def stop_execution(state: GenQueryState):\n",
    "    state['result'] = \"Could not answer your question\"\n",
    "    return state\n",
    "\n"
   ]
  },
  {
   "cell_type": "code",
   "execution_count": 42,
   "id": "a065eeb5",
   "metadata": {},
   "outputs": [],
   "source": [
    "from langgraph.graph import StateGraph, START, END\n",
    "\n",
    "graph = StateGraph(GenQueryState)\n",
    "graph.add_node(\"content_preparation\", table_content_preparation)\n",
    "graph.add_node(\"prompt_preparation\", prepare_prompt)\n",
    "graph.add_node(\"generate_run_query\", generate_query)\n",
    "graph.add_node(\"correct_prompt\", correct_query)\n",
    "graph.add_node(\"end_of_execution\", stop_execution)\n",
    "\n",
    "graph.add_edge(START, \"content_preparation\")\n",
    "graph.add_edge(\"content_preparation\", \"prompt_preparation\")\n",
    "graph.add_edge(\"prompt_preparation\", \"generate_run_query\")\n",
    "graph.add_conditional_edges(\"generate_run_query\",\n",
    "    error_router,\n",
    "    {\n",
    "        \"continue\": END,\n",
    "        \"fix_the_query\": \"correct_prompt\",\n",
    "        \"acknowledge_error\": \"end_of_execution\"\n",
    "    }\n",
    ")\n",
    "graph.add_edge(\"correct_prompt\", \"generate_run_query\")\n",
    "graph.add_edge(\"end_of_execution\", END)\n",
    "\n",
    "app = graph.compile()"
   ]
  },
  {
   "cell_type": "code",
   "execution_count": 12,
   "id": "145a8921",
   "metadata": {},
   "outputs": [
    {
     "data": {
      "image/png": "[encoded data removed]",
      "text/plain": [
       "<IPython.core.display.Image object>"
      ]
     },
     "metadata": {},
     "output_type": "display_data"
    }
   ],
   "source": [
    "from IPython.display import Image, display\n",
    "from langchain_core.runnables.graph import MermaidDrawMethod\n",
    "\n",
    "display(\n",
    "    Image(\n",
    "        app.get_graph().draw_mermaid_png(\n",
    "            draw_method=MermaidDrawMethod.API,\n",
    "        )\n",
    "    )\n",
    ")"
   ]
  },
  {
   "cell_type": "code",
   "execution_count": 43,
   "id": "52ed7142",
   "metadata": {},
   "outputs": [
    {
     "name": "stdout",
     "output_type": "stream",
     "text": [
      "SELECT SUM(flight_count) AS total_flights\n",
      "FROM flight_fact;\n",
      "[(3,)]\n"
     ]
    }
   ],
   "source": [
    "state = GenQueryState(user_question=\"How many flights?\", counter=0)\n",
    "result = app.invoke(state)\n",
    "print(result['result'])"
   ]
  }
 ],
 "metadata": {
  "kernelspec": {
   "display_name": ".venv",
   "language": "python",
   "name": "python3"
  },
  "language_info": {
   "codemirror_mode": {
    "name": "ipython",
    "version": 3
   },
   "file_extension": ".py",
   "mimetype": "text/x-python",
   "name": "python",
   "nbconvert_exporter": "python",
   "pygments_lexer": "ipython3",
   "version": "3.11.3"
  }
 },
 "nbformat": 4,
 "nbformat_minor": 5
}
