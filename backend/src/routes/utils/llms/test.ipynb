{
 "cells": [
  {
   "cell_type": "code",
   "execution_count": 1,
   "id": "71b02d93",
   "metadata": {},
   "outputs": [],
   "source": [
    "agg_columns = ['company_id', 'departure_time']\n",
    "operations = {\"flight_id\":\"COUNT\"}\n",
    "time_column = \"departure_time\"\n",
    "time = \"WEEKDAY\""
   ]
  },
  {
   "cell_type": "code",
   "execution_count": 3,
   "id": "cce4e413",
   "metadata": {},
   "outputs": [],
   "source": [
    "from create_fact_table_generator import TableConverterAgent\n",
    "from response_generator import ModelResponseAgent"
   ]
  },
  {
   "cell_type": "code",
   "execution_count": null,
   "id": "67ed0800",
   "metadata": {},
   "outputs": [],
   "source": [
    "agent = TableConverterAgent()\n",
    "res = agent.start_fact_table(agg_columns, operations, time_column, time)"
   ]
  },
  {
   "cell_type": "code",
   "execution_count": 33,
   "id": "fe10eee3",
   "metadata": {},
   "outputs": [
    {
     "name": "stdout",
     "output_type": "stream",
     "text": [
      "{ 'RayanAir', 'Turkish Airlines', 'Airways Co' }  \n",
      "{ 6, 3, 2 }  \n",
      "{ Airlines }  \n",
      "{ Number of Flights }  \n",
      "{ Companies with the Most Flights on Friday }\n",
      "chart\n"
     ]
    }
   ],
   "source": [
    "response_agent = ModelResponseAgent()\n",
    "res = response_agent.ask_question(\"What are the companies with the most flights on Friday?\")\n",
    "print(res['final_result'])\n",
    "print(res['decision'])"
   ]
  },
  {
   "cell_type": "code",
   "execution_count": null,
   "id": "97f8f363",
   "metadata": {},
   "outputs": [
    {
     "ename": "ModuleNotFoundError",
     "evalue": "No module named 'utils'",
     "output_type": "error",
     "traceback": [
      "\u001b[0;31m---------------------------------------------------------------------------\u001b[0m",
      "\u001b[0;31mModuleNotFoundError\u001b[0m                       Traceback (most recent call last)",
      "Cell \u001b[0;32mIn[2], line 1\u001b[0m\n\u001b[0;32m----> 1\u001b[0m \u001b[38;5;28;01mfrom\u001b[39;00m\u001b[38;5;250m \u001b[39m\u001b[38;5;21;01mutils\u001b[39;00m\u001b[38;5;21;01m.\u001b[39;00m\u001b[38;5;21;01mresponse_starter\u001b[39;00m\u001b[38;5;250m \u001b[39m\u001b[38;5;28;01mimport\u001b[39;00m parse_question\n\u001b[1;32m      2\u001b[0m (res, \u001b[38;5;28mtype\u001b[39m) \u001b[38;5;241m=\u001b[39m parse_question(\u001b[38;5;124m\"\u001b[39m\u001b[38;5;124mWhat are the companies with the most flights on Friday?\u001b[39m\u001b[38;5;124m\"\u001b[39m)\n\u001b[1;32m      3\u001b[0m \u001b[38;5;28mprint\u001b[39m(res)\n",
      "\u001b[0;31mModuleNotFoundError\u001b[0m: No module named 'utils'"
     ]
    }
   ],
   "source": [
    "import sqlite3\n",
    "import ast\n",
    "import os\n",
    "\n",
    "def parse_question(user_question): \n",
    "    BASE_DIR = os.path.abspath(os.path.join(os.path.dirname(__file__), \"../../../\"))\n",
    "    DB_PATH = os.path.join(BASE_DIR, \"data.db\")\n",
    "    connection = sqlite3.connect(DB_PATH)\n",
    "    cursor = connection.cursor()\n",
    "\n",
    "    cursor.execute(\"SELECT count(*) FROM sqlite_master WHERE type='table';\")\n",
    "    table_count = cursor.fetchone()[0]\n",
    "\n",
    "    if table_count == 0:\n",
    "        return (\"You haven't uploaded any files yet\", \"text\")\n",
    "    else:\n",
    "        agent = ModelResponseAgent()\n",
    "        state = agent.ask_question(user_question)\n",
    "        result = state['final_result']\n",
    "        type = state['decision']\n",
    "        if state == \"chart\":\n",
    "            result = parse_chart_output(result)\n",
    "        return (result, type)\n",
    "    \n",
    "def parse_chart_output(output: str):\n",
    "    lines = [line.strip().strip(';') for line in output.strip().splitlines()]\n",
    "    lines = [line for line in lines if line and not line.startswith('```')]  # remove markdown block\n",
    "\n",
    "    if len(lines) < 5:\n",
    "        raise ValueError(\"Invalid output format: not enough lines\")\n",
    "\n",
    "    try:\n",
    "        x_values = ast.literal_eval(lines[0])\n",
    "        y_values = ast.literal_eval(lines[1])\n",
    "        x_label = lines[2]\n",
    "        y_label = lines[3]\n",
    "        title = lines[4]\n",
    "    except Exception as e:\n",
    "        raise ValueError(f\"Error parsing chart output: {e}\")\n",
    "\n",
    "    return x_values, y_values, x_label, y_label, title\n",
    "\n",
    "(res, type) = parse_question(\"What are the companies with the most flights on Friday?\")\n",
    "print(type)\n",
    "print(res)"
   ]
  }
 ],
 "metadata": {
  "kernelspec": {
   "display_name": ".venv",
   "language": "python",
   "name": "python3"
  },
  "language_info": {
   "codemirror_mode": {
    "name": "ipython",
    "version": 3
   },
   "file_extension": ".py",
   "mimetype": "text/x-python",
   "name": "python",
   "nbconvert_exporter": "python",
   "pygments_lexer": "ipython3",
   "version": "3.11.3"
  }
 },
 "nbformat": 4,
 "nbformat_minor": 5
}
