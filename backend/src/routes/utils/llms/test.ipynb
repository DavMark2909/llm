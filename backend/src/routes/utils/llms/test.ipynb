{
 "cells": [
  {
   "cell_type": "code",
   "execution_count": 1,
   "id": "71b02d93",
   "metadata": {},
   "outputs": [],
   "source": [
    "agg_columns = ['company_id', 'departure_time']\n",
    "operations = {\"flight_id\":\"COUNT\"}\n",
    "time_column = \"departure_time\"\n",
    "time = \"WEEKDAY\""
   ]
  },
  {
   "cell_type": "code",
   "execution_count": null,
   "id": "cce4e413",
   "metadata": {},
   "outputs": [],
   "source": [
    "from create_fact_table_generator import TableConverterAgent\n",
    "from create_fact_table_generator import bullshit"
   ]
  },
  {
   "cell_type": "code",
   "execution_count": 3,
   "id": "67ed0800",
   "metadata": {},
   "outputs": [
    {
     "name": "stdout",
     "output_type": "stream",
     "text": [
      "```sql\n",
      "CREATE TABLE fact_flights (\n",
      "    company_id INTEGER,\n",
      "    departure_day_of_week INT,  -- Changed to represent the day of the week correctly\n",
      "    flight_count INTEGER,\n",
      "    PRIMARY KEY (company_id, departure_day_of_week),\n",
      "    FOREIGN KEY (company_id) REFERENCES companies(company_id)\n",
      "    -- Removed the incorrect FOREIGN KEY reference to a subquery\n",
      ");\n",
      "```\n",
      "[\"INSERT INTO fact_flights (company_id, departure_day_of_week, flight_count)\\nSELECT \\n    p.company_id,\\n    strftime('%w', f.departure_time) AS departure_day_of_week,\\n    COUNT(f.flight_id) AS flight_count\\nFROM \\n    flights f\\nJOIN \\n    planes p ON f.plane_id = p.plane_id\\nGROUP BY \\n    p.company_id, departure_day_of_week;\"]\n",
      "[\"INSERT INTO fact_flights (company_id, departure_day_of_week, flight_count)\\nSELECT \\n    p.company_id,\\n    strftime('%w', f.departure_time) AS departure_day_of_week,\\n    COUNT(f.flight_id) AS flight_count\\nFROM \\n    flights f\\nJOIN \\n    planes p ON f.plane_id = p.plane_id\\nGROUP BY \\n    p.company_id, departure_day_of_week;\"]\n",
      "[\"INSERT INTO fact_flights (company_id, departure_day_of_week, flight_count)\\nSELECT\\n    p.company_id,\\n    strftime('%w', f.departure_time) AS departure_day_of_week,\\n    COUNT(f.flight_id) AS flight_count\\nFROM\\n    flights f\\nJOIN\\n    planes p ON f.plane_id = p.plane_id\\nGROUP BY\\n    p.company_id, departure_day_of_week;\"]\n",
      "[\"INSERT INTO fact_flights (company_id, departure_day_of_week, flight_count)\\nSELECT \\n    p.company_id,\\n    strftime('%w', f.departure_time) AS departure_day_of_week,\\n    COUNT(f.flight_id) AS flight_count\\nFROM \\n    flights f\\nJOIN \\n    planes p ON f.plane_id = p.plane_id\\nGROUP BY \\n    p.company_id, departure_day_of_week;\"]\n"
     ]
    }
   ],
   "source": [
    "agent = TableConverterAgent()\n",
    "res = agent.start_fact_table(agg_columns, operations, time_column, time)"
   ]
  },
  {
   "cell_type": "code",
   "execution_count": null,
   "id": "800d24d3",
   "metadata": {},
   "outputs": [],
   "source": [
    "bullshit()"
   ]
  }
 ],
 "metadata": {
  "kernelspec": {
   "display_name": ".venv",
   "language": "python",
   "name": "python3"
  },
  "language_info": {
   "codemirror_mode": {
    "name": "ipython",
    "version": 3
   },
   "file_extension": ".py",
   "mimetype": "text/x-python",
   "name": "python",
   "nbconvert_exporter": "python",
   "pygments_lexer": "ipython3",
   "version": "3.11.3"
  }
 },
 "nbformat": 4,
 "nbformat_minor": 5
}
