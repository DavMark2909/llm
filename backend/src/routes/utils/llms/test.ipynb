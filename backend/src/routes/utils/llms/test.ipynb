{
 "cells": [
  {
   "cell_type": "code",
   "execution_count": null,
   "id": "c90eb180",
   "metadata": {},
   "outputs": [],
   "source": [
    "import inflect\n",
    "\n",
    "p = inflect.engine()\n",
    "\n",
    "table_names = [\"places\", \"companies\"]\n",
    "\n",
    "foreigns = {\"flights\": [\"flight_id\", \"plane_id\"], \"planes\": [\"plane_id\", \"company_id\"],\n",
    "}\n",
    "\n",
    "foreigns_clean = {\"flights\": [\"plane_id\"], \"planes\": [\"company_id\"],}\n",
    "\n",
    "def find_matching_table(fk_column: str, existing_tables: list[str]) -> str | None:\n",
    "    base_name = fk_column[:-3]  \n",
    "\n",
    "    for table in existing_tables:\n",
    "        singular = p.singular_noun(table)\n",
    "        singular = singular if singular else table  \n",
    "\n",
    "        if singular.lower() == base_name.lower():\n",
    "            print(table, \" \", fk_column)\n",
    "            return table  \n",
    "\n",
    "    return None\n",
    "\n",
    "def find_own_id(table, fk_columns):\n",
    "    singular = p.singular_noun(table)\n",
    "    singular = singular if singular else table\n",
    "\n",
    "    for column in fk_columns:\n",
    "        c = column[:-3]\n",
    "        if singular.lower() == c.lower():\n",
    "            print(\"Found the column for itself - \", table, \" , the column is\", column)\n",
    "            return column\n",
    "    return None\n",
    "\n",
    "def queue_maker(values):\n",
    "    queue = []\n",
    "    while values:\n",
    "        for table in list(values.keys()):\n",
    "            resolvable = True\n",
    "            fk_columns = values[table]\n",
    "            itself = find_own_id(table, fk_columns)\n",
    "            if itself is not None:\n",
    "                fk_columns.remove(itself)\n",
    "            for column in fk_columns:\n",
    "                match = find_matching_table(column, table_names)\n",
    "                if match == None:\n",
    "                    resolvable = False\n",
    "                    continue\n",
    "            if resolvable:\n",
    "                queue.append(table)\n",
    "                values.pop(table)\n",
    "                table_names.append(table)\n",
    "            print(len(values))\n",
    "    print(queue)"
   ]
  },
  {
   "cell_type": "code",
   "execution_count": null,
   "id": "16d69221",
   "metadata": {},
   "outputs": [
    {
     "name": "stdout",
     "output_type": "stream",
     "text": [
      "Found the column for itself -  flights  , the column is flight_id\n",
      "2\n",
      "Found the column for itself -  planes  , the column is plane_id\n",
      "companies   company_id\n",
      "1\n",
      "planes   plane_id\n",
      "0\n",
      "['planes', 'flights']\n"
     ]
    }
   ],
   "source": [
    "queue_maker(foreigns)"
   ]
  }
 ],
 "metadata": {
  "kernelspec": {
   "display_name": ".venv",
   "language": "python",
   "name": "python3"
  },
  "language_info": {
   "codemirror_mode": {
    "name": "ipython",
    "version": 3
   },
   "file_extension": ".py",
   "mimetype": "text/x-python",
   "name": "python",
   "nbconvert_exporter": "python",
   "pygments_lexer": "ipython3",
   "version": "3.11.3"
  }
 },
 "nbformat": 4,
 "nbformat_minor": 5
}
